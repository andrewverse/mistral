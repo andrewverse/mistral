{
  "cells": [
    {
      "cell_type": "code",
      "execution_count": null,
      "metadata": {
        "id": "81Spahb2SfL0"
      },
      "outputs": [],
      "source": [
        "%pip install langchain langchain-openai"
      ]
    },
    {
      "cell_type": "code",
      "execution_count": 4,
      "metadata": {
        "id": "UMOBo639SjHN"
      },
      "outputs": [],
      "source": [
        "OPEN_API_API_KEY = \"<YOUR_API_KEY>\""
      ]
    },
    {
      "cell_type": "code",
      "execution_count": null,
      "metadata": {
        "colab": {
          "base_uri": "https://localhost:8080/"
        },
        "id": "EYrqiFUCUyMJ",
        "outputId": "2260eb48-4ed6-4eab-a175-809b57c4a627"
      },
      "outputs": [],
      "source": [
        "# Summarizer model; input: article; output: summary\n",
        "\n",
        "from langchain_core.prompts import ChatPromptTemplate\n",
        "from langchain_openai import ChatOpenAI\n",
        "from langchain_core.output_parsers import StrOutputParser\n",
        "from langchain_core.runnables import RunnablePassthrough\n",
        "\n",
        "LLM = ChatOpenAI(openai_api_key=OPEN_API_API_KEY)\n",
        "\n",
        "prompt = ChatPromptTemplate.from_template(\n",
        "    \"\"\"\n",
        "    Summarize the following article:\n",
        "    {article}\n",
        "    \"\"\"\n",
        ")\n",
        "model = LLM\n",
        "chain = (\n",
        "    {\"article\": RunnablePassthrough()}\n",
        "    | prompt\n",
        "    | model\n",
        "    | StrOutputParser()\n",
        ")\n",
        "\n",
        "summary = chain.invoke(\n",
        "    \"\"\"\n",
        "        Apple has largely sat out of the AI arms race — but that could be about to change.\n",
        "\n",
        "        The Silicon Valley heavyweight has acquired 21 AI startups since 2017 — more than any of its rivals — according to data from PitchBook, shared with Business Insider and cited by the Financial Times.\n",
        "\n",
        "        And it's embarking on a hunt for AI talent as it seeks to catch up with rivals like Google and Microsoft.\n",
        "\n",
        "        Based on analysis of academic papers, industry data, and insights from tech sector experts, the FT report suggested that Apple is primarily focused on getting AI to run directly on its iPhones — rather than relying on massive data centers and a connection to the cloud, as services like ChatGPT do.\n",
        "\n",
        "        The tech titan is also reportedly working on a smarter, AI-powered version of its Siri voice assistant that Morgan Stanley analysts predict could launch alongside iOS 18 at Apple's Worldwide Developers Conference in June, the FT wrote.\n",
        "\n",
        "        Apple has also updated some of its hardware to support generative AI, unveiling more powerful M3 chips for its Macbook line in October and a new S9 chip for the Apple Watch, which allows Siri to access data without being connected to the internet.\n",
        "\n",
        "        A look at Apple's job listings shows that the company is hiring a number of roles focused on improving Siri's AI capabilities and \"enabling a better conversational experience\" with Apple's voice assistant.\n",
        "\n",
        "        They also suggest that Apple is ramping up its search for AI talent, advertising AI-focused jobs across several areas, including health, on-device AI, and building \"foundation models,\" which are baseline AI models like GPT-4.\n",
        "\n",
        "        A recent research note from Morgan Stanley, cited by the FT, found that nearly half of the company's AI job postings are now focused on \"Deep Learning,\" a type of machine learning that is integral to building large language models like ChatGPT.\n",
        "\n",
        "        Apple last year reportedly developed its own GPT-4 rival, a large language model called \"Ajax\" that employees have used to create an internal chatbot service.\n",
        "\n",
        "        The company pumped money $22.61 billion into research and development in the first half of last year — an increase CEO Tim Cook said was partly down to Apple's focus on generative AI.\n",
        "\n",
        "        Apple was largely caught off guard by the astonishing success of ChatGPT in late 2022, with one insider at the company telling Bloomberg that the lack of response was considered \"a pretty big miss internally.\"\n",
        "\n",
        "        The company has taken a cautious approach to the new technology even as rivals like Google and Microsoft have launched a number of new AI products.\n",
        "\n",
        "        In a May 2023 earnings call, Apple CEO Tim Cook described the AI boom as \"huge\" for the tech industry, but cautioned that the tech titan would be \"deliberate and thoughtful\" in how it incorporated the technology into its products.\n",
        "\n",
        "        Apple did not immediately respond to a request for comment from Business Insider, made outside normal working hours.\n",
        "    \"\"\"\n",
        ")\n",
        "print(summary)"
      ]
    },
    {
      "cell_type": "code",
      "execution_count": 13,
      "metadata": {
        "id": "GUxKebpaWhbW"
      },
      "outputs": [],
      "source": [
        "# Idea generator model; input: summay; output: tweet ideas\n",
        "\n",
        "prompt = ChatPromptTemplate.from_template(\n",
        "    \"\"\"\n",
        "    Generate a list of 5 tweet ideas based on the following article summary.\n",
        "    Make each tweet under 280 characters long.\n",
        "    Article summary:\n",
        "    {summary}\n",
        "    \"\"\"\n",
        ")\n",
        "model = LLM\n",
        "chain = (\n",
        "    {\"summary\": RunnablePassthrough()}\n",
        "    | prompt\n",
        "    | model\n",
        "    | StrOutputParser()\n",
        ")\n",
        "\n",
        "tweets = chain.invoke(summary)"
      ]
    },
    {
      "cell_type": "code",
      "execution_count": 14,
      "metadata": {
        "colab": {
          "base_uri": "https://localhost:8080/",
          "height": 143
        },
        "id": "mrYHUmVlXMLu",
        "outputId": "9a889f10-444a-4bed-9586-f45d0730b9a1"
      },
      "outputs": [
        {
          "data": {
            "application/vnd.google.colaboratory.intrinsic+json": {
              "type": "string"
            },
            "text/plain": [
              "'1. \"Apple dominates the AI space with a staggering 21 startup acquisitions since 2017. Find out how their groundbreaking AI development directly on iPhones will crush the competition. #AI #Apple\"\\n2. \"Revolutionize your iPhone experience with the smarter Siri you\\'ve been waiting for! Apple\\'s highly anticipated voice assistant upgrade is on its way, set to launch alongside iOS 18 this June. #Siri #iOS18 #Apple\"\\n3. \"Siri is about to get a major boost! Apple is making substantial investments in generative AI technology, top-tier talent, and hardware upgrades. Will Siri finally surpass its rivals? #AI #Siri #Apple\"\\n4. \"Discover Apple\\'s secret weapon: \\'Ajax\\' - their very own cutting-edge language model. Brace yourself for groundbreaking advancements in generative AI as Apple ramps up their research and development efforts. Exciting times lie ahead! #AI #Apple\"\\n5. \"Apple is making a bold comeback in the AI race! After being caught off guard by ChatGPT\\'s success, they\\'re now stepping up their game. Can they bridge the gap and outshine competitors like Google and Microsoft? Don\\'t miss out! #AI #Apple\"'"
            ]
          },
          "execution_count": 14,
          "metadata": {},
          "output_type": "execute_result"
        }
      ],
      "source": [
        "# Tweet refiner model; input: tweet ideas; output: refined tweet ideas\n",
        "\n",
        "prompt = ChatPromptTemplate.from_template(\n",
        "    \"\"\"\n",
        "    Rewrite each of these tweet ideas to be more compelling.\n",
        "    {tweets}\n",
        "    \"\"\"\n",
        ")\n",
        "model = LLM\n",
        "chain = (\n",
        "    {\"tweets\": RunnablePassthrough()}\n",
        "    | prompt\n",
        "    | model\n",
        "    | StrOutputParser()\n",
        ")\n",
        "\n",
        "chain.invoke(tweets)"
      ]
    }
  ],
  "metadata": {
    "colab": {
      "provenance": []
    },
    "kernelspec": {
      "display_name": "Python 3",
      "name": "python3"
    },
    "language_info": {
      "name": "python"
    }
  },
  "nbformat": 4,
  "nbformat_minor": 0
}
