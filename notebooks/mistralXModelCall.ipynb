{
  "cells": [
    {
      "cell_type": "code",
      "execution_count": null,
      "metadata": {
        "id": "UI1UJJPUUX38"
      },
      "outputs": [],
      "source": [
        "%pip install peft transformers"
      ]
    },
    {
      "cell_type": "code",
      "execution_count": null,
      "metadata": {
        "id": "aqK4o6ljUWXj"
      },
      "outputs": [],
      "source": [
        "from peft import PeftModel, PeftConfig\n",
        "from transformers import AutoModelForCausalLM\n",
        "\n",
        "config = PeftConfig.from_pretrained(\"giordanorogers/mistral-X-v2\")\n",
        "model = AutoModelForCausalLM.from_pretrained(\"mistralai/Mistral-7B-v0.1\")\n",
        "model = PeftModel.from_pretrained(model, \"giordanorogers/mistral-X-v2\")"
      ]
    },
    {
      "cell_type": "code",
      "execution_count": null,
      "metadata": {
        "id": "Yc6tfipsVpRN"
      },
      "outputs": [],
      "source": [
        "from transformers import pipeline\n",
        "from transformers import AutoTokenizer\n",
        "\n",
        "tokenizer = AutoTokenizer.from_pretrained(\"mistralai/Mistral-7B-v0.1\")\n",
        "\n",
        "generator = pipeline(\"text-generation\", model=model, tokenizer=tokenizer, config=config, )"
      ]
    },
    {
      "cell_type": "code",
      "execution_count": null,
      "metadata": {
        "id": "WUFIcZkWvkct"
      },
      "outputs": [],
      "source": [
        "# Few-shot examples\n",
        "few_shot_examples = \"\"\"\n",
        "\"Food for thought:\n",
        "\n",
        "The stuff people wrote on the internet from the 90s to the 2020s was the training data for all future AI content.\n",
        "\n",
        "Most content created after the 2020s will likely just be a repetition of those original 30 years of data.\n",
        "\n",
        "Crazy.\"\n",
        "\n",
        "\"New research can now track full body movements of multiple people using only WiFi.\n",
        "\n",
        "A deep neural network has been developed that maps the phase and amplitude of WiFi signals to specific body regions.\n",
        "\n",
        "We no longer need cameras to track body movements - just a WiFi signal.\"\n",
        "\n",
        "\"The mammoth of an AI project that everyone is forgetting about in light of chatGPT:\n",
        "\n",
        "Google's PaLM (Pathways Language Model) claims to have 560 billion parameters, nearly 3x that of OpenAI's GPT-3 \"\n",
        "\"\"\"\n",
        "\n",
        "# Your actual prompt, appended after the examples\n",
        "prompt = few_shot_examples + \"\\nWrite a concise tweet about how much more software developers can accomplish with GitHub Copilot, emphasizing efficiency and AI-powered workflows.\"\n",
        "\n",
        "# Generating response with adjusted prompt and specifying max_length\n",
        "responses = generator(prompt,\n",
        "                      max_new_tokens=60,\n",
        "                      num_return_sequences=1,  # Generate a single output\n",
        "                      do_sample=True,  # Allow for temperature setting\n",
        "                      temperature=0.8, # Predictable output\n",
        "                      top_p=0.9,\n",
        "                      num_beams=5,  # Enable beam search by setting num_beams > 1\n",
        "                      early_stopping=True,  # Now relevant because we're using beam search\n",
        "                      length_penalty=0.9) # Encourage concise output\n",
        "\n",
        "# Print the generated text\n",
        "for response in responses:\n",
        "    print(response['generated_text'])\n"
      ]
    }
  ],
  "metadata": {
    "colab": {
      "machine_shape": "hm",
      "provenance": []
    },
    "kernelspec": {
      "display_name": "Python 3",
      "name": "python3"
    },
    "language_info": {
      "codemirror_mode": {
        "name": "ipython",
        "version": 3
      },
      "file_extension": ".py",
      "mimetype": "text/x-python",
      "name": "python",
      "nbconvert_exporter": "python",
      "pygments_lexer": "ipython3",
      "version": "3.11.1"
    }
  },
  "nbformat": 4,
  "nbformat_minor": 0
}
